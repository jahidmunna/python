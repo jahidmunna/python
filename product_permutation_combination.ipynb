{
 "cells": [
  {
   "cell_type": "code",
   "execution_count": 1,
   "id": "5454891f",
   "metadata": {},
   "outputs": [],
   "source": [
    "from itertools import product, permutations, combinations"
   ]
  },
  {
   "cell_type": "markdown",
   "id": "601dfa8f",
   "metadata": {},
   "source": [
    "## First Make Set with N values"
   ]
  },
  {
   "cell_type": "code",
   "execution_count": 2,
   "id": "07de48a0",
   "metadata": {},
   "outputs": [],
   "source": [
    "SET = 'ABC'\n",
    "N = 2"
   ]
  },
  {
   "cell_type": "markdown",
   "id": "366ffc66",
   "metadata": {},
   "source": [
    "### Get Products"
   ]
  },
  {
   "cell_type": "code",
   "execution_count": 3,
   "id": "7e2b8c51",
   "metadata": {},
   "outputs": [
    {
     "data": {
      "text/plain": [
       "[('A', 'A'),\n",
       " ('A', 'B'),\n",
       " ('A', 'C'),\n",
       " ('B', 'A'),\n",
       " ('B', 'B'),\n",
       " ('B', 'C'),\n",
       " ('C', 'A'),\n",
       " ('C', 'B'),\n",
       " ('C', 'C')]"
      ]
     },
     "execution_count": 3,
     "metadata": {},
     "output_type": "execute_result"
    }
   ],
   "source": [
    "list(product(SET, repeat=N))"
   ]
  },
  {
   "cell_type": "markdown",
   "id": "a9d2a72d",
   "metadata": {},
   "source": [
    "### Get Permutations (Order Matters)"
   ]
  },
  {
   "cell_type": "code",
   "execution_count": 4,
   "id": "7c3286b1",
   "metadata": {},
   "outputs": [
    {
     "data": {
      "text/plain": [
       "[('A', 'B'), ('A', 'C'), ('B', 'A'), ('B', 'C'), ('C', 'A'), ('C', 'B')]"
      ]
     },
     "execution_count": 4,
     "metadata": {},
     "output_type": "execute_result"
    }
   ],
   "source": [
    "list(permutations(SET, N))"
   ]
  },
  {
   "cell_type": "markdown",
   "id": "58be2607",
   "metadata": {},
   "source": [
    "### Get Combinations (Order Doesn't Matter)"
   ]
  },
  {
   "cell_type": "code",
   "execution_count": 5,
   "id": "edef54f5",
   "metadata": {},
   "outputs": [
    {
     "data": {
      "text/plain": [
       "[('A', 'B'), ('A', 'C'), ('B', 'C')]"
      ]
     },
     "execution_count": 5,
     "metadata": {},
     "output_type": "execute_result"
    }
   ],
   "source": [
    "list(combinations(SET, N))"
   ]
  },
  {
   "cell_type": "code",
   "execution_count": 9,
   "id": "fa94d324",
   "metadata": {},
   "outputs": [
    {
     "data": {
      "text/plain": [
       "[[1, 2], [3, 4]]"
      ]
     },
     "execution_count": 9,
     "metadata": {},
     "output_type": "execute_result"
    }
   ],
   "source": [
    "A = [1, 2]\n",
    "B = [3, 4]\n",
    "\n",
    "C = [A, B]\n",
    "C"
   ]
  },
  {
   "cell_type": "code",
   "execution_count": null,
   "id": "5a006f62",
   "metadata": {},
   "outputs": [],
   "source": []
  }
 ],
 "metadata": {
  "kernelspec": {
   "display_name": "Python 3 (ipykernel)",
   "language": "python",
   "name": "python3"
  },
  "language_info": {
   "codemirror_mode": {
    "name": "ipython",
    "version": 3
   },
   "file_extension": ".py",
   "mimetype": "text/x-python",
   "name": "python",
   "nbconvert_exporter": "python",
   "pygments_lexer": "ipython3",
   "version": "3.9.10"
  }
 },
 "nbformat": 4,
 "nbformat_minor": 5
}
