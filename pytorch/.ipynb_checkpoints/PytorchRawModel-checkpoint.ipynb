{
 "cells": [
  {
   "cell_type": "markdown",
   "metadata": {},
   "source": [
    "## Learn Regression using Pytroch Builtin Library"
   ]
  },
  {
   "cell_type": "code",
   "execution_count": 3,
   "metadata": {},
   "outputs": [],
   "source": [
    "import torch\n",
    "import numpy as np\n",
    "import torch.nn as nn"
   ]
  },
  {
   "cell_type": "markdown",
   "metadata": {},
   "source": [
    "## manuallyl input 16 samples"
   ]
  },
  {
   "cell_type": "code",
   "execution_count": 16,
   "metadata": {},
   "outputs": [],
   "source": [
    "# input (temp, rainfall, humidity)\n",
    "inputs = np.array([\n",
    "    [30,67,46],\n",
    "    [40,57,56],\n",
    "    [35,65,66],\n",
    "    [45,63,45],\n",
    "    [33,61,43],\n",
    "    [36,58,46],\n",
    "    [25,65,45],\n",
    "    [26,53,55],\n",
    "    [28,68,57],\n",
    "    [30,70,48],\n",
    "    [34,67,49],\n",
    "    [33,66,66],\n",
    "    [41,55,75],\n",
    "    [24,77,43],\n",
    "    [28,72,58],\n",
    "    [25,75,55],\n",
    "],dtype='float32'\n",
    ")\n",
    "\n",
    "# targets (apples, oranges)\n",
    "targets = np.array([\n",
    "    [56,70],\n",
    "    [81,75],\n",
    "    [76,76],\n",
    "    [65,78],\n",
    "    [82,65],\n",
    "    [64,68],\n",
    "    [67,60],\n",
    "    [69,78],\n",
    "    [63,73],\n",
    "    [78,67],\n",
    "    [49,66],\n",
    "    [79,69],\n",
    "    [85,77],\n",
    "    [76,73],\n",
    "    [70,82],\n",
    "    [68,80],\n",
    "    \n",
    "],dtype='float32'\n",
    ")"
   ]
  },
  {
   "cell_type": "code",
   "execution_count": 17,
   "metadata": {},
   "outputs": [
    {
     "data": {
      "text/plain": [
       "((16, 3), (16, 2))"
      ]
     },
     "execution_count": 17,
     "metadata": {},
     "output_type": "execute_result"
    }
   ],
   "source": [
    "inputs.shape, targets.shape"
   ]
  },
  {
   "cell_type": "markdown",
   "metadata": {},
   "source": [
    "## convert np to Torch"
   ]
  },
  {
   "cell_type": "code",
   "execution_count": 18,
   "metadata": {},
   "outputs": [],
   "source": [
    "inputs = torch.from_numpy(inputs)\n",
    "targets = torch.from_numpy(targets)"
   ]
  },
  {
   "cell_type": "code",
   "execution_count": 19,
   "metadata": {},
   "outputs": [
    {
     "data": {
      "text/plain": [
       "[(tensor([30., 67., 46.]), tensor([56., 70.])),\n",
       " (tensor([40., 57., 56.]), tensor([81., 75.])),\n",
       " (tensor([35., 65., 66.]), tensor([76., 76.])),\n",
       " (tensor([45., 63., 45.]), tensor([65., 78.])),\n",
       " (tensor([33., 61., 43.]), tensor([82., 65.])),\n",
       " (tensor([36., 58., 46.]), tensor([64., 68.])),\n",
       " (tensor([25., 65., 45.]), tensor([67., 60.])),\n",
       " (tensor([26., 53., 55.]), tensor([69., 78.])),\n",
       " (tensor([28., 68., 57.]), tensor([63., 73.])),\n",
       " (tensor([30., 70., 48.]), tensor([78., 67.])),\n",
       " (tensor([34., 67., 49.]), tensor([49., 66.])),\n",
       " (tensor([33., 66., 66.]), tensor([79., 69.])),\n",
       " (tensor([41., 55., 75.]), tensor([85., 77.])),\n",
       " (tensor([24., 77., 43.]), tensor([76., 73.])),\n",
       " (tensor([28., 72., 58.]), tensor([70., 82.])),\n",
       " (tensor([25., 75., 55.]), tensor([68., 80.]))]"
      ]
     },
     "execution_count": 19,
     "metadata": {},
     "output_type": "execute_result"
    }
   ],
   "source": [
    "list(zip(inputs, targets))"
   ]
  },
  {
   "cell_type": "markdown",
   "metadata": {},
   "source": [
    "## Dataset and Dataloader"
   ]
  },
  {
   "cell_type": "code",
   "execution_count": 20,
   "metadata": {},
   "outputs": [],
   "source": [
    "from torch.utils.data import TensorDataset"
   ]
  },
  {
   "cell_type": "code",
   "execution_count": 21,
   "metadata": {},
   "outputs": [
    {
     "data": {
      "text/plain": [
       "<torch.utils.data.dataset.TensorDataset at 0x7f190f749250>"
      ]
     },
     "execution_count": 21,
     "metadata": {},
     "output_type": "execute_result"
    }
   ],
   "source": [
    "train_dataset = TensorDataset(inputs, targets)\n",
    "train_dataset"
   ]
  },
  {
   "cell_type": "code",
   "execution_count": 22,
   "metadata": {},
   "outputs": [
    {
     "data": {
      "text/plain": [
       "(tensor([[30., 67., 46.],\n",
       "         [40., 57., 56.],\n",
       "         [35., 65., 66.],\n",
       "         [45., 63., 45.],\n",
       "         [33., 61., 43.]]), tensor([[56., 70.],\n",
       "         [81., 75.],\n",
       "         [76., 76.],\n",
       "         [65., 78.],\n",
       "         [82., 65.]]))"
      ]
     },
     "execution_count": 22,
     "metadata": {},
     "output_type": "execute_result"
    }
   ],
   "source": [
    "train_dataset[:5]"
   ]
  },
  {
   "cell_type": "code",
   "execution_count": 15,
   "metadata": {},
   "outputs": [],
   "source": [
    "# to use batch and random shuffiling\n",
    "from torch.utils.data import DataLoader"
   ]
  },
  {
   "cell_type": "code",
   "execution_count": 24,
   "metadata": {},
   "outputs": [
    {
     "data": {
      "text/plain": [
       "<torch.utils.data.dataloader.DataLoader at 0x7f190f759090>"
      ]
     },
     "execution_count": 24,
     "metadata": {},
     "output_type": "execute_result"
    }
   ],
   "source": [
    "batch_size = 4\n",
    "train_dataloader = DataLoader(train_dataset, batch_size, shuffle=True)\n",
    "train_dataloader"
   ]
  },
  {
   "cell_type": "code",
   "execution_count": 26,
   "metadata": {},
   "outputs": [
    {
     "name": "stdout",
     "output_type": "stream",
     "text": [
      "input:  tensor([[30., 67., 46.],\n",
      "        [34., 67., 49.],\n",
      "        [25., 65., 45.],\n",
      "        [36., 58., 46.]])\n",
      "target:  tensor([[56., 70.],\n",
      "        [49., 66.],\n",
      "        [67., 60.],\n",
      "        [64., 68.]])\n"
     ]
    }
   ],
   "source": [
    "for x, y in train_dataloader:\n",
    "    print(\"input: \",x)\n",
    "    print(\"target: \",y)\n",
    "    break"
   ]
  },
  {
   "cell_type": "markdown",
   "metadata": {},
   "source": [
    "## Making Model"
   ]
  },
  {
   "cell_type": "code",
   "execution_count": null,
   "metadata": {},
   "outputs": [],
   "source": [
    "# model = nn.Linear(input_colum_size_per_row, target_column_size_per_row)\n",
    "# model = nn.Linear((temp, rainfall, humidity), (orange, apple))\n",
    "model = nn.Linear(3,2)"
   ]
  }
 ],
 "metadata": {
  "kernelspec": {
   "display_name": "Python 3",
   "language": "python",
   "name": "python3"
  },
  "language_info": {
   "codemirror_mode": {
    "name": "ipython",
    "version": 3
   },
   "file_extension": ".py",
   "mimetype": "text/x-python",
   "name": "python",
   "nbconvert_exporter": "python",
   "pygments_lexer": "ipython3",
   "version": "3.7.4"
  }
 },
 "nbformat": 4,
 "nbformat_minor": 2
}
